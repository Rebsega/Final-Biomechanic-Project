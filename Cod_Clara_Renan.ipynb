{
 "cells": [
  {
   "cell_type": "code",
   "execution_count": 1,
   "metadata": {},
   "outputs": [],
   "source": [
    "#Code for the Last project of the Biomechanic subject\n",
    "#Authors:\n",
    "#Clara Alves Coelho\n",
    "#Renan Barbieri Segamarchi\n",
    "#####################################################\n",
    "#This code is made for receiving a video, chosen by the authors or the user, then this one will have some options such as:\n",
    "#Cut the video in a specific part then generate images of this piece\n",
    "#Show the number of frames\n",
    "#Generate an video of images\n"
   ]
  },
  {
   "cell_type": "code",
   "execution_count": null,
   "metadata": {},
   "outputs": [],
   "source": []
  }
 ],
 "metadata": {
  "kernelspec": {
   "display_name": "Python 3",
   "language": "python",
   "name": "python3"
  },
  "language_info": {
   "codemirror_mode": {
    "name": "ipython",
    "version": 3
   },
   "file_extension": ".py",
   "mimetype": "text/x-python",
   "name": "python",
   "nbconvert_exporter": "python",
   "pygments_lexer": "ipython3",
   "version": "3.8.5"
  }
 },
 "nbformat": 4,
 "nbformat_minor": 4
}
